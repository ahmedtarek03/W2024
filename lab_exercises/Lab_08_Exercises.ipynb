{
 "cells": [
  {
   "cell_type": "markdown",
   "metadata": {},
   "source": [
    "# Lab 8 - K-Means Clustering"
   ]
  },
  {
   "cell_type": "markdown",
   "metadata": {},
   "source": [
    "**Dataset Description**: You are required to apply a clustering technique for customer segmentation, in order to define a marketing strategy for a certain bank's credit card customers. The\n",
    "sample dataset summarizes the usage behavior of about 9000 active credit card holders during the last 6 months. The file is at a customer level with 18 behavioral variables.\n",
    "\n",
    "The following is the explanation for the provided credit card dataset.\n",
    "```raw\n",
    "CUSTID : Identification of Credit Card holder (Categorical)\n",
    "\n",
    "BALANCE : Balance amount left in their account to make purchases\n",
    "\n",
    "BALANCEFREQUENCY : How frequently the Balance is updated, score between 0 and 1 (1 = frequently updated, 0 = not frequently updated)\n",
    "\n",
    "PURCHASES : Amount of purchases made from account\n",
    "\n",
    "ONEOFFPURCHASES : Maximum purchase amount done in one-go\n",
    "\n",
    "INSTALLMENTSPURCHASES : Amount of purchase done in installment\n",
    "\n",
    "CASHADVANCE : Cash in advance given by the user\n",
    "\n",
    "PURCHASESFREQUENCY : How frequently the Purchases are being made, score between 0 and 1 (1 = frequently purchased, 0 = not frequently purchased)\n",
    "\n",
    "ONEOFFPURCHASESFREQUENCY : How frequently Purchases are happening in one-go (1 = frequently purchased, 0 = not frequently purchased)\n",
    "\n",
    "PURCHASESINSTALLMENTSFREQUENCY : How frequently purchases in installments are being done (1 = frequently done, 0 = not frequently done)\n",
    "\n",
    "CASHADVANCEFREQUENCY : How frequently the cash in advance being paid\n",
    "\n",
    "CASHADVANCETRX : Number of Transactions made with \"Cash in Advanced\"\n",
    "\n",
    "PURCHASESTRX : Numbe of purchase transactions made\n",
    "\n",
    "CREDITLIMIT : Limit of Credit Card for user\n",
    "\n",
    "PAYMENTS : Amount of Payment done by user\n",
    "\n",
    "MINIMUM_PAYMENTS : Minimum amount of payments made by user\n",
    "\n",
    "PRCFULLPAYMENT : Percent of full payment paid by user\n",
    "\n",
    "TENURE : Tenure of credit card service for user\n",
    "```"
   ]
  },
  {
   "cell_type": "markdown",
   "metadata": {},
   "source": [
    "## Import Libraries and Load the Dataset\n",
    "\n",
    "The data URL is `https://raw.githubusercontent.com/GUC-DM/W2024/main/data/cc_dataset.csv`"
   ]
  },
  {
   "cell_type": "code",
   "execution_count": null,
   "metadata": {},
   "outputs": [],
   "source": []
  },
  {
   "cell_type": "markdown",
   "metadata": {},
   "source": [
    "## Data Inspection / Cleaning"
   ]
  },
  {
   "cell_type": "code",
   "execution_count": null,
   "metadata": {},
   "outputs": [],
   "source": []
  },
  {
   "cell_type": "markdown",
   "metadata": {},
   "source": [
    "## Clustering\n",
    "\n",
    "You should consider scaling the data to improve clustering performance. Features with a wide range of values often dominate the distance measure calculation, so using scaling would be advised. Consider the following techniques that were covered in previous lectures:\n",
    "\n",
    "- Min-Max Normalization (uses min and max, often scaling values to 0..1)\n",
    "- Z-Score Normalization (uses mean and stddev)\n",
    "\n",
    "See https://scikit-learn.org/stable/modules/preprocessing.html for the relevant functions.\n",
    "\n",
    "Keep the original dataframe for analysis in the next section."
   ]
  },
  {
   "cell_type": "code",
   "execution_count": null,
   "metadata": {},
   "outputs": [],
   "source": []
  },
  {
   "cell_type": "markdown",
   "metadata": {},
   "source": [
    "## Cluster Interpretation\n",
    "\n",
    "Compared to the main lab notebook, this data is highly dimensional and can not be plotted as simply on a single plot. Think of how you can investigate each cluster with respect to each column in the data. Write your conclusions in a markdown cell below the code cell."
   ]
  },
  {
   "cell_type": "code",
   "execution_count": null,
   "metadata": {},
   "outputs": [],
   "source": []
  },
  {
   "cell_type": "markdown",
   "metadata": {},
   "source": [
    "## Acknowledgment\n",
    "\n",
    "Dataset source: https://www.kaggle.com/arjunbhasin2013/ccdata"
   ]
  }
 ],
 "metadata": {
  "kernelspec": {
   "display_name": "Python 3 (ipykernel)",
   "language": "python",
   "name": "python3"
  },
  "language_info": {
   "codemirror_mode": {
    "name": "ipython",
    "version": 3
   },
   "file_extension": ".py",
   "mimetype": "text/x-python",
   "name": "python",
   "nbconvert_exporter": "python",
   "pygments_lexer": "ipython3",
   "version": "3.10.9"
  },
  "vscode": {
   "interpreter": {
    "hash": "806d670c7bb2cbe074590fc196bfaf591c17bcc1c3e5afa2a6f71dcbde559284"
   }
  }
 },
 "nbformat": 4,
 "nbformat_minor": 4
}
